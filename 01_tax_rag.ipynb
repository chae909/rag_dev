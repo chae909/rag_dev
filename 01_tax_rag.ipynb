{
 "cells": [
  {
   "cell_type": "code",
   "execution_count": 1,
   "id": "84fbd366",
   "metadata": {},
   "outputs": [
    {
     "name": "stdout",
     "output_type": "stream",
     "text": [
      "Requirement already satisfied: tqdm in c:\\ai_prompt\\second\\ai_agent\\ai_agent_work2\\tax_env\\myenv\\lib\\site-packages (4.67.1)\n",
      "Requirement already satisfied: langchain in c:\\ai_prompt\\second\\ai_agent\\ai_agent_work2\\tax_env\\myenv\\lib\\site-packages (0.3.25)\n",
      "Requirement already satisfied: langchain-core in c:\\ai_prompt\\second\\ai_agent\\ai_agent_work2\\tax_env\\myenv\\lib\\site-packages (0.3.65)\n",
      "Requirement already satisfied: langchain-community in c:\\ai_prompt\\second\\ai_agent\\ai_agent_work2\\tax_env\\myenv\\lib\\site-packages (0.3.25)\n",
      "Requirement already satisfied: langchain-text-splitters in c:\\ai_prompt\\second\\ai_agent\\ai_agent_work2\\tax_env\\myenv\\lib\\site-packages (0.3.8)\n",
      "Requirement already satisfied: langchain-openai in c:\\ai_prompt\\second\\ai_agent\\ai_agent_work2\\tax_env\\myenv\\lib\\site-packages (0.3.22)\n",
      "Requirement already satisfied: langchain-pinecone in c:\\ai_prompt\\second\\ai_agent\\ai_agent_work2\\tax_env\\myenv\\lib\\site-packages (0.2.8)\n",
      "Requirement already satisfied: docx2txt in c:\\ai_prompt\\second\\ai_agent\\ai_agent_work2\\tax_env\\myenv\\lib\\site-packages (0.9)\n",
      "Requirement already satisfied: colorama in c:\\ai_prompt\\second\\ai_agent\\ai_agent_work2\\tax_env\\myenv\\lib\\site-packages (from tqdm) (0.4.6)\n",
      "Requirement already satisfied: langsmith<0.4,>=0.1.17 in c:\\ai_prompt\\second\\ai_agent\\ai_agent_work2\\tax_env\\myenv\\lib\\site-packages (from langchain) (0.3.45)\n",
      "Requirement already satisfied: pydantic<3.0.0,>=2.7.4 in c:\\ai_prompt\\second\\ai_agent\\ai_agent_work2\\tax_env\\myenv\\lib\\site-packages (from langchain) (2.11.5)\n",
      "Requirement already satisfied: SQLAlchemy<3,>=1.4 in c:\\ai_prompt\\second\\ai_agent\\ai_agent_work2\\tax_env\\myenv\\lib\\site-packages (from langchain) (2.0.41)\n",
      "Requirement already satisfied: requests<3,>=2 in c:\\ai_prompt\\second\\ai_agent\\ai_agent_work2\\tax_env\\myenv\\lib\\site-packages (from langchain) (2.32.4)\n",
      "Requirement already satisfied: PyYAML>=5.3 in c:\\ai_prompt\\second\\ai_agent\\ai_agent_work2\\tax_env\\myenv\\lib\\site-packages (from langchain) (6.0.2)\n",
      "Requirement already satisfied: tenacity!=8.4.0,<10.0.0,>=8.1.0 in c:\\ai_prompt\\second\\ai_agent\\ai_agent_work2\\tax_env\\myenv\\lib\\site-packages (from langchain-core) (9.1.2)\n",
      "Requirement already satisfied: jsonpatch<2.0,>=1.33 in c:\\ai_prompt\\second\\ai_agent\\ai_agent_work2\\tax_env\\myenv\\lib\\site-packages (from langchain-core) (1.33)\n",
      "Requirement already satisfied: packaging<25,>=23.2 in c:\\ai_prompt\\second\\ai_agent\\ai_agent_work2\\tax_env\\myenv\\lib\\site-packages (from langchain-core) (24.2)\n",
      "Requirement already satisfied: typing-extensions>=4.7 in c:\\ai_prompt\\second\\ai_agent\\ai_agent_work2\\tax_env\\myenv\\lib\\site-packages (from langchain-core) (4.14.0)\n",
      "Requirement already satisfied: jsonpointer>=1.9 in c:\\ai_prompt\\second\\ai_agent\\ai_agent_work2\\tax_env\\myenv\\lib\\site-packages (from jsonpatch<2.0,>=1.33->langchain-core) (3.0.0)\n",
      "Requirement already satisfied: httpx<1,>=0.23.0 in c:\\ai_prompt\\second\\ai_agent\\ai_agent_work2\\tax_env\\myenv\\lib\\site-packages (from langsmith<0.4,>=0.1.17->langchain) (0.28.1)\n",
      "Requirement already satisfied: orjson<4.0.0,>=3.9.14 in c:\\ai_prompt\\second\\ai_agent\\ai_agent_work2\\tax_env\\myenv\\lib\\site-packages (from langsmith<0.4,>=0.1.17->langchain) (3.10.18)\n",
      "Requirement already satisfied: requests-toolbelt<2.0.0,>=1.0.0 in c:\\ai_prompt\\second\\ai_agent\\ai_agent_work2\\tax_env\\myenv\\lib\\site-packages (from langsmith<0.4,>=0.1.17->langchain) (1.0.0)\n",
      "Requirement already satisfied: zstandard<0.24.0,>=0.23.0 in c:\\ai_prompt\\second\\ai_agent\\ai_agent_work2\\tax_env\\myenv\\lib\\site-packages (from langsmith<0.4,>=0.1.17->langchain) (0.23.0)\n",
      "Requirement already satisfied: anyio in c:\\ai_prompt\\second\\ai_agent\\ai_agent_work2\\tax_env\\myenv\\lib\\site-packages (from httpx<1,>=0.23.0->langsmith<0.4,>=0.1.17->langchain) (4.9.0)\n",
      "Requirement already satisfied: certifi in c:\\ai_prompt\\second\\ai_agent\\ai_agent_work2\\tax_env\\myenv\\lib\\site-packages (from httpx<1,>=0.23.0->langsmith<0.4,>=0.1.17->langchain) (2025.4.26)\n",
      "Requirement already satisfied: httpcore==1.* in c:\\ai_prompt\\second\\ai_agent\\ai_agent_work2\\tax_env\\myenv\\lib\\site-packages (from httpx<1,>=0.23.0->langsmith<0.4,>=0.1.17->langchain) (1.0.9)\n",
      "Requirement already satisfied: idna in c:\\ai_prompt\\second\\ai_agent\\ai_agent_work2\\tax_env\\myenv\\lib\\site-packages (from httpx<1,>=0.23.0->langsmith<0.4,>=0.1.17->langchain) (3.10)\n",
      "Requirement already satisfied: h11>=0.16 in c:\\ai_prompt\\second\\ai_agent\\ai_agent_work2\\tax_env\\myenv\\lib\\site-packages (from httpcore==1.*->httpx<1,>=0.23.0->langsmith<0.4,>=0.1.17->langchain) (0.16.0)\n",
      "Requirement already satisfied: annotated-types>=0.6.0 in c:\\ai_prompt\\second\\ai_agent\\ai_agent_work2\\tax_env\\myenv\\lib\\site-packages (from pydantic<3.0.0,>=2.7.4->langchain) (0.7.0)\n",
      "Requirement already satisfied: pydantic-core==2.33.2 in c:\\ai_prompt\\second\\ai_agent\\ai_agent_work2\\tax_env\\myenv\\lib\\site-packages (from pydantic<3.0.0,>=2.7.4->langchain) (2.33.2)\n",
      "Requirement already satisfied: typing-inspection>=0.4.0 in c:\\ai_prompt\\second\\ai_agent\\ai_agent_work2\\tax_env\\myenv\\lib\\site-packages (from pydantic<3.0.0,>=2.7.4->langchain) (0.4.1)\n",
      "Requirement already satisfied: charset_normalizer<4,>=2 in c:\\ai_prompt\\second\\ai_agent\\ai_agent_work2\\tax_env\\myenv\\lib\\site-packages (from requests<3,>=2->langchain) (3.4.2)\n",
      "Requirement already satisfied: urllib3<3,>=1.21.1 in c:\\ai_prompt\\second\\ai_agent\\ai_agent_work2\\tax_env\\myenv\\lib\\site-packages (from requests<3,>=2->langchain) (2.4.0)\n",
      "Requirement already satisfied: greenlet>=1 in c:\\ai_prompt\\second\\ai_agent\\ai_agent_work2\\tax_env\\myenv\\lib\\site-packages (from SQLAlchemy<3,>=1.4->langchain) (3.2.3)\n",
      "Requirement already satisfied: aiohttp<4.0.0,>=3.8.3 in c:\\ai_prompt\\second\\ai_agent\\ai_agent_work2\\tax_env\\myenv\\lib\\site-packages (from langchain-community) (3.12.12)\n",
      "Requirement already satisfied: dataclasses-json<0.7,>=0.5.7 in c:\\ai_prompt\\second\\ai_agent\\ai_agent_work2\\tax_env\\myenv\\lib\\site-packages (from langchain-community) (0.6.7)\n",
      "Requirement already satisfied: pydantic-settings<3.0.0,>=2.4.0 in c:\\ai_prompt\\second\\ai_agent\\ai_agent_work2\\tax_env\\myenv\\lib\\site-packages (from langchain-community) (2.9.1)\n",
      "Requirement already satisfied: httpx-sse<1.0.0,>=0.4.0 in c:\\ai_prompt\\second\\ai_agent\\ai_agent_work2\\tax_env\\myenv\\lib\\site-packages (from langchain-community) (0.4.0)\n",
      "Requirement already satisfied: numpy>=1.26.2 in c:\\ai_prompt\\second\\ai_agent\\ai_agent_work2\\tax_env\\myenv\\lib\\site-packages (from langchain-community) (2.3.0)\n",
      "Requirement already satisfied: aiohappyeyeballs>=2.5.0 in c:\\ai_prompt\\second\\ai_agent\\ai_agent_work2\\tax_env\\myenv\\lib\\site-packages (from aiohttp<4.0.0,>=3.8.3->langchain-community) (2.6.1)\n",
      "Requirement already satisfied: aiosignal>=1.1.2 in c:\\ai_prompt\\second\\ai_agent\\ai_agent_work2\\tax_env\\myenv\\lib\\site-packages (from aiohttp<4.0.0,>=3.8.3->langchain-community) (1.3.2)\n",
      "Requirement already satisfied: attrs>=17.3.0 in c:\\ai_prompt\\second\\ai_agent\\ai_agent_work2\\tax_env\\myenv\\lib\\site-packages (from aiohttp<4.0.0,>=3.8.3->langchain-community) (25.3.0)\n",
      "Requirement already satisfied: frozenlist>=1.1.1 in c:\\ai_prompt\\second\\ai_agent\\ai_agent_work2\\tax_env\\myenv\\lib\\site-packages (from aiohttp<4.0.0,>=3.8.3->langchain-community) (1.7.0)\n",
      "Requirement already satisfied: multidict<7.0,>=4.5 in c:\\ai_prompt\\second\\ai_agent\\ai_agent_work2\\tax_env\\myenv\\lib\\site-packages (from aiohttp<4.0.0,>=3.8.3->langchain-community) (6.4.4)\n",
      "Requirement already satisfied: propcache>=0.2.0 in c:\\ai_prompt\\second\\ai_agent\\ai_agent_work2\\tax_env\\myenv\\lib\\site-packages (from aiohttp<4.0.0,>=3.8.3->langchain-community) (0.3.2)\n",
      "Requirement already satisfied: yarl<2.0,>=1.17.0 in c:\\ai_prompt\\second\\ai_agent\\ai_agent_work2\\tax_env\\myenv\\lib\\site-packages (from aiohttp<4.0.0,>=3.8.3->langchain-community) (1.20.1)\n",
      "Requirement already satisfied: marshmallow<4.0.0,>=3.18.0 in c:\\ai_prompt\\second\\ai_agent\\ai_agent_work2\\tax_env\\myenv\\lib\\site-packages (from dataclasses-json<0.7,>=0.5.7->langchain-community) (3.26.1)\n",
      "Requirement already satisfied: typing-inspect<1,>=0.4.0 in c:\\ai_prompt\\second\\ai_agent\\ai_agent_work2\\tax_env\\myenv\\lib\\site-packages (from dataclasses-json<0.7,>=0.5.7->langchain-community) (0.9.0)\n",
      "Requirement already satisfied: python-dotenv>=0.21.0 in c:\\ai_prompt\\second\\ai_agent\\ai_agent_work2\\tax_env\\myenv\\lib\\site-packages (from pydantic-settings<3.0.0,>=2.4.0->langchain-community) (1.1.0)\n",
      "Requirement already satisfied: mypy-extensions>=0.3.0 in c:\\ai_prompt\\second\\ai_agent\\ai_agent_work2\\tax_env\\myenv\\lib\\site-packages (from typing-inspect<1,>=0.4.0->dataclasses-json<0.7,>=0.5.7->langchain-community) (1.1.0)\n",
      "Requirement already satisfied: openai<2.0.0,>=1.68.2 in c:\\ai_prompt\\second\\ai_agent\\ai_agent_work2\\tax_env\\myenv\\lib\\site-packages (from langchain-openai) (1.86.0)\n",
      "Requirement already satisfied: tiktoken<1,>=0.7 in c:\\ai_prompt\\second\\ai_agent\\ai_agent_work2\\tax_env\\myenv\\lib\\site-packages (from langchain-openai) (0.9.0)\n",
      "Requirement already satisfied: distro<2,>=1.7.0 in c:\\ai_prompt\\second\\ai_agent\\ai_agent_work2\\tax_env\\myenv\\lib\\site-packages (from openai<2.0.0,>=1.68.2->langchain-openai) (1.9.0)\n",
      "Requirement already satisfied: jiter<1,>=0.4.0 in c:\\ai_prompt\\second\\ai_agent\\ai_agent_work2\\tax_env\\myenv\\lib\\site-packages (from openai<2.0.0,>=1.68.2->langchain-openai) (0.10.0)\n",
      "Requirement already satisfied: sniffio in c:\\ai_prompt\\second\\ai_agent\\ai_agent_work2\\tax_env\\myenv\\lib\\site-packages (from openai<2.0.0,>=1.68.2->langchain-openai) (1.3.1)\n",
      "Requirement already satisfied: regex>=2022.1.18 in c:\\ai_prompt\\second\\ai_agent\\ai_agent_work2\\tax_env\\myenv\\lib\\site-packages (from tiktoken<1,>=0.7->langchain-openai) (2024.11.6)\n",
      "Requirement already satisfied: pinecone<8.0.0,>=6.0.0 in c:\\ai_prompt\\second\\ai_agent\\ai_agent_work2\\tax_env\\myenv\\lib\\site-packages (from pinecone[asyncio]<8.0.0,>=6.0.0->langchain-pinecone) (7.0.2)\n",
      "Requirement already satisfied: langchain-tests<1.0.0,>=0.3.7 in c:\\ai_prompt\\second\\ai_agent\\ai_agent_work2\\tax_env\\myenv\\lib\\site-packages (from langchain-pinecone) (0.3.20)\n",
      "Requirement already satisfied: pytest<9,>=7 in c:\\ai_prompt\\second\\ai_agent\\ai_agent_work2\\tax_env\\myenv\\lib\\site-packages (from langchain-tests<1.0.0,>=0.3.7->langchain-pinecone) (8.4.0)\n",
      "Requirement already satisfied: pytest-asyncio<1,>=0.20 in c:\\ai_prompt\\second\\ai_agent\\ai_agent_work2\\tax_env\\myenv\\lib\\site-packages (from langchain-tests<1.0.0,>=0.3.7->langchain-pinecone) (0.26.0)\n",
      "Requirement already satisfied: syrupy<5,>=4 in c:\\ai_prompt\\second\\ai_agent\\ai_agent_work2\\tax_env\\myenv\\lib\\site-packages (from langchain-tests<1.0.0,>=0.3.7->langchain-pinecone) (4.9.1)\n",
      "Requirement already satisfied: pytest-socket<1,>=0.6.0 in c:\\ai_prompt\\second\\ai_agent\\ai_agent_work2\\tax_env\\myenv\\lib\\site-packages (from langchain-tests<1.0.0,>=0.3.7->langchain-pinecone) (0.7.0)\n",
      "Requirement already satisfied: pytest-benchmark in c:\\ai_prompt\\second\\ai_agent\\ai_agent_work2\\tax_env\\myenv\\lib\\site-packages (from langchain-tests<1.0.0,>=0.3.7->langchain-pinecone) (5.1.0)\n",
      "Requirement already satisfied: pytest-codspeed in c:\\ai_prompt\\second\\ai_agent\\ai_agent_work2\\tax_env\\myenv\\lib\\site-packages (from langchain-tests<1.0.0,>=0.3.7->langchain-pinecone) (3.2.0)\n",
      "Requirement already satisfied: pytest-recording in c:\\ai_prompt\\second\\ai_agent\\ai_agent_work2\\tax_env\\myenv\\lib\\site-packages (from langchain-tests<1.0.0,>=0.3.7->langchain-pinecone) (0.13.4)\n",
      "Requirement already satisfied: vcrpy>=7.0 in c:\\ai_prompt\\second\\ai_agent\\ai_agent_work2\\tax_env\\myenv\\lib\\site-packages (from langchain-tests<1.0.0,>=0.3.7->langchain-pinecone) (7.0.0)\n",
      "Requirement already satisfied: pinecone-plugin-assistant<2.0.0,>=1.6.0 in c:\\ai_prompt\\second\\ai_agent\\ai_agent_work2\\tax_env\\myenv\\lib\\site-packages (from pinecone<8.0.0,>=6.0.0->pinecone[asyncio]<8.0.0,>=6.0.0->langchain-pinecone) (1.6.1)\n",
      "Requirement already satisfied: pinecone-plugin-interface<0.0.8,>=0.0.7 in c:\\ai_prompt\\second\\ai_agent\\ai_agent_work2\\tax_env\\myenv\\lib\\site-packages (from pinecone<8.0.0,>=6.0.0->pinecone[asyncio]<8.0.0,>=6.0.0->langchain-pinecone) (0.0.7)\n",
      "Requirement already satisfied: python-dateutil>=2.5.3 in c:\\ai_prompt\\second\\ai_agent\\ai_agent_work2\\tax_env\\myenv\\lib\\site-packages (from pinecone<8.0.0,>=6.0.0->pinecone[asyncio]<8.0.0,>=6.0.0->langchain-pinecone) (2.9.0.post0)\n",
      "Requirement already satisfied: aiohttp-retry<3.0.0,>=2.9.1 in c:\\ai_prompt\\second\\ai_agent\\ai_agent_work2\\tax_env\\myenv\\lib\\site-packages (from pinecone[asyncio]<8.0.0,>=6.0.0->langchain-pinecone) (2.9.1)\n",
      "Requirement already satisfied: iniconfig>=1 in c:\\ai_prompt\\second\\ai_agent\\ai_agent_work2\\tax_env\\myenv\\lib\\site-packages (from pytest<9,>=7->langchain-tests<1.0.0,>=0.3.7->langchain-pinecone) (2.1.0)\n",
      "Requirement already satisfied: pluggy<2,>=1.5 in c:\\ai_prompt\\second\\ai_agent\\ai_agent_work2\\tax_env\\myenv\\lib\\site-packages (from pytest<9,>=7->langchain-tests<1.0.0,>=0.3.7->langchain-pinecone) (1.6.0)\n",
      "Requirement already satisfied: pygments>=2.7.2 in c:\\ai_prompt\\second\\ai_agent\\ai_agent_work2\\tax_env\\myenv\\lib\\site-packages (from pytest<9,>=7->langchain-tests<1.0.0,>=0.3.7->langchain-pinecone) (2.19.1)\n",
      "Requirement already satisfied: six>=1.5 in c:\\ai_prompt\\second\\ai_agent\\ai_agent_work2\\tax_env\\myenv\\lib\\site-packages (from python-dateutil>=2.5.3->pinecone<8.0.0,>=6.0.0->pinecone[asyncio]<8.0.0,>=6.0.0->langchain-pinecone) (1.17.0)\n",
      "Requirement already satisfied: wrapt in c:\\ai_prompt\\second\\ai_agent\\ai_agent_work2\\tax_env\\myenv\\lib\\site-packages (from vcrpy>=7.0->langchain-tests<1.0.0,>=0.3.7->langchain-pinecone) (1.17.2)\n",
      "Requirement already satisfied: py-cpuinfo in c:\\ai_prompt\\second\\ai_agent\\ai_agent_work2\\tax_env\\myenv\\lib\\site-packages (from pytest-benchmark->langchain-tests<1.0.0,>=0.3.7->langchain-pinecone) (9.0.0)\n",
      "Requirement already satisfied: cffi>=1.17.1 in c:\\ai_prompt\\second\\ai_agent\\ai_agent_work2\\tax_env\\myenv\\lib\\site-packages (from pytest-codspeed->langchain-tests<1.0.0,>=0.3.7->langchain-pinecone) (1.17.1)\n",
      "Requirement already satisfied: rich>=13.8.1 in c:\\ai_prompt\\second\\ai_agent\\ai_agent_work2\\tax_env\\myenv\\lib\\site-packages (from pytest-codspeed->langchain-tests<1.0.0,>=0.3.7->langchain-pinecone) (14.0.0)\n",
      "Requirement already satisfied: pycparser in c:\\ai_prompt\\second\\ai_agent\\ai_agent_work2\\tax_env\\myenv\\lib\\site-packages (from cffi>=1.17.1->pytest-codspeed->langchain-tests<1.0.0,>=0.3.7->langchain-pinecone) (2.22)\n",
      "Requirement already satisfied: markdown-it-py>=2.2.0 in c:\\ai_prompt\\second\\ai_agent\\ai_agent_work2\\tax_env\\myenv\\lib\\site-packages (from rich>=13.8.1->pytest-codspeed->langchain-tests<1.0.0,>=0.3.7->langchain-pinecone) (3.0.0)\n",
      "Requirement already satisfied: mdurl~=0.1 in c:\\ai_prompt\\second\\ai_agent\\ai_agent_work2\\tax_env\\myenv\\lib\\site-packages (from markdown-it-py>=2.2.0->rich>=13.8.1->pytest-codspeed->langchain-tests<1.0.0,>=0.3.7->langchain-pinecone) (0.1.2)\n",
      "Note: you may need to restart the kernel to use updated packages.\n"
     ]
    }
   ],
   "source": [
    "%pip install tqdm langchain langchain-core langchain-community langchain-text-splitters langchain-openai langchain-pinecone docx2txt"
   ]
  },
  {
   "cell_type": "code",
   "execution_count": 2,
   "id": "339166c6",
   "metadata": {},
   "outputs": [
    {
     "data": {
      "text/plain": [
       "True"
      ]
     },
     "execution_count": 2,
     "metadata": {},
     "output_type": "execute_result"
    }
   ],
   "source": [
    "from dotenv import load_dotenv\n",
    "\n",
    "load_dotenv()"
   ]
  },
  {
   "cell_type": "markdown",
   "id": "95899921",
   "metadata": {},
   "source": [
    "### 청킹 작업 "
   ]
  },
  {
   "cell_type": "code",
   "execution_count": 3,
   "id": "9235acc5",
   "metadata": {},
   "outputs": [
    {
     "data": {
      "text/plain": [
       "225"
      ]
     },
     "execution_count": 3,
     "metadata": {},
     "output_type": "execute_result"
    }
   ],
   "source": [
    "from langchain_community.document_loaders import Docx2txtLoader\n",
    "from langchain_text_splitters import RecursiveCharacterTextSplitter\n",
    "\n",
    "text_splitter = RecursiveCharacterTextSplitter(\n",
    "    chunk_size=1500,\n",
    "    chunk_overlap=200,\n",
    ")\n",
    "\n",
    "loader = Docx2txtLoader(\"./tax.docx\")\n",
    "document_list = loader.load_and_split(text_splitter=text_splitter)\n",
    "len(document_list)"
   ]
  },
  {
   "cell_type": "code",
   "execution_count": 4,
   "id": "8a5ec278",
   "metadata": {},
   "outputs": [
    {
     "data": {
      "text/plain": [
       "Document(metadata={'source': './tax.docx'}, page_content='제55조(세율) ①거주자의 종합소득에 대한 소득세는 해당 연도의 종합소득과세표준에 다음의 세율을 적용하여 계산한 금액(이하 “종합소득산출세액”이라 한다)을 그 세액으로 한다. <개정 2014. 1. 1., 2016. 12. 20., 2017. 12. 19., 2020. 12. 29., 2022. 12. 31.>\\n\\n| 종합소득 과세표준          | 세율                                         |\\n\\n|-------------------|--------------------------------------------|\\n\\n| 1,400만원 이하     | 과세표준의 6퍼센트                             |\\n\\n| 1,400만원 초과     5,000만원 이하     | 84만원 + (1,400만원을 초과하는 금액의 15퍼센트)  |\\n\\n| 5,000만원 초과   8,800만원 이하     | 624만원 + (5,000만원을 초과하는 금액의 24퍼센트) |\\n\\n| 8,800만원 초과 1억5천만원 이하    | 3,706만원 + (8,800만원을 초과하는 금액의 35퍼센트)|\\n\\n| 1억5천만원 초과 3억원 이하         | 3,706만원 + (1억5천만원을 초과하는 금액의 38퍼센트)|\\n\\n| 3억원 초과    5억원 이하         | 9,406만원 + (3억원을 초과하는 금액의 38퍼센트)   |\\n\\n| 5억원 초과      10억원 이하        | 1억 7,406만원 + (5억원을 초과하는 금액의 42퍼센트)|\\n\\n| 10억원 초과        | 3억 8,406만원 + (10억원을 초과하는 금액의 45퍼센트)|\\n\\n\\n\\n\\n\\n② 거주자의 퇴직소득에 대한 소득세는 다음 각 호의 순서에 따라 계산한 금액(이하 “퇴직소득 산출세액”이라 한다)으로 한다.<개정 2013. 1. 1., 2014. 12. 23.>\\n\\n1. 해당 과세기간의 퇴직소득과세표준에 제1항의 세율을 적용하여 계산한 금액\\n\\n2. 제1호의 금액을 12로 나눈 금액에 근속연수를 곱한 금액\\n\\n3. 삭제<2014. 12. 23.>\\n\\n[전문개정 2009. 12. 31.]\\n\\n\\n\\n제2관 세액공제 <개정 2009. 12. 31.>\\n\\n\\n\\n제56조(배당세액공제) ① 거주자의 종합소득금액에 제17조제3항 각 호 외의 부분 단서가 적용되는 배당소득금액이 합산되어 있는 경우에는 같은 항 각 호 외의 부분 단서에 따라 해당 과세기간의 총수입금액에 더한 금액에 해당하는 금액을 종합소득 산출세액에서 공제한다. <개정 2009. 12. 31.>\\n\\n② 제1항에 따른 공제를 “배당세액공제”라 한다.<개정 2009. 12. 31.>\\n\\n③ 삭제<2003. 12. 30.>\\n\\n④ 제1항을 적용할 때 배당세액공제의 대상이 되는 배당소득금액은 제14조제2항의 종합소득과세표준에 포함된 배당소득금액으로서 이자소득등의 종합과세기준금액을 초과하는 것으로 한다.<개정 2009. 12. 31.>\\n\\n⑤ 삭제<2006. 12. 30.>')"
      ]
     },
     "execution_count": 4,
     "metadata": {},
     "output_type": "execute_result"
    }
   ],
   "source": [
    "document_list[52]"
   ]
  },
  {
   "cell_type": "markdown",
   "id": "a1cd1144",
   "metadata": {},
   "source": [
    "### 임베딩 작업 "
   ]
  },
  {
   "cell_type": "code",
   "execution_count": 5,
   "id": "6d794f44",
   "metadata": {},
   "outputs": [],
   "source": [
    "from langchain_openai import OpenAIEmbeddings\n",
    "\n",
    "embedding = OpenAIEmbeddings(\n",
    "    model='text-embedding-3-large'\n",
    ") # 3072차원"
   ]
  },
  {
   "cell_type": "markdown",
   "id": "d7498337",
   "metadata": {},
   "source": [
    "### vector DB"
   ]
  },
  {
   "cell_type": "markdown",
   "id": "2794096a",
   "metadata": {},
   "source": [
    "#### 이미 생성한 후 로딩용"
   ]
  },
  {
   "cell_type": "code",
   "execution_count": 6,
   "id": "32734df8",
   "metadata": {},
   "outputs": [],
   "source": [
    "# import os\n",
    "# from pinecone import Pinecone\n",
    "# from langchain_pinecone import PineconeVectorStore\n",
    "\n",
    "# index_name = 'tax-index'\n",
    "# pinecone_api_key = os.getenv('PINECONE_API_KEY')\n",
    "# pc = Pinecone(api_key=pinecone_api_key)\n",
    "\n",
    "# vectorstor=PineconeVectorStore.from_existing_index(\n",
    "#     index_name=index_name,\n",
    "#     embedding=embedding\n",
    "# )"
   ]
  },
  {
   "cell_type": "markdown",
   "id": "e393458f",
   "metadata": {},
   "source": [
    "#### 처음 생성용"
   ]
  },
  {
   "cell_type": "code",
   "execution_count": 7,
   "id": "6d6951e6",
   "metadata": {},
   "outputs": [
    {
     "name": "stderr",
     "output_type": "stream",
     "text": [
      "c:\\AI_prompt\\second\\AI_Agent\\ai_agent_work2\\tax_env\\myenv\\Lib\\site-packages\\tqdm\\auto.py:21: TqdmWarning: IProgress not found. Please update jupyter and ipywidgets. See https://ipywidgets.readthedocs.io/en/stable/user_install.html\n",
      "  from .autonotebook import tqdm as notebook_tqdm\n"
     ]
    }
   ],
   "source": [
    "import os\n",
    "from pinecone import Pinecone\n",
    "from langchain_pinecone import PineconeVectorStore\n",
    "\n",
    "index_name = 'tax-index'\n",
    "pinecone_api_key = os.getenv('PINECONE_API_KEY')\n",
    "pc = Pinecone(api_key=pinecone_api_key)\n",
    "pinecone_index = pc.Index(index_name)\n",
    "\n",
    "vectorstore = PineconeVectorStore(\n",
    "    index=pinecone_index,\n",
    "    embedding=embedding,\n",
    "    text_key='text'\n",
    ")\n",
    "\n",
    "texts = [doc.page_content for doc in document_list]\n",
    "metadatas = [doc.metadata for doc in document_list]\n",
    "\n",
    "batch_size = 2\n",
    "\n",
    "for i in range(0, len(texts), batch_size):\n",
    "    batch_texts = texts[i:i + batch_size]\n",
    "    batch_metadatas = metadatas[i:i + batch_size]\n",
    "    \n",
    "    try:\n",
    "        vectorstore.add_texts(texts=batch_texts, metadatas=batch_metadatas)\n",
    "    except Exception as e:\n",
    "        print(f\"Error adding batch {i // batch_size + 1}: {e}\")"
   ]
  },
  {
   "cell_type": "code",
   "execution_count": 8,
   "id": "14ba2fda",
   "metadata": {},
   "outputs": [],
   "source": [
    "query = '연봉 5천만원인 거주자의 종합소득세는?'"
   ]
  },
  {
   "cell_type": "code",
   "execution_count": 9,
   "id": "55d2bc41",
   "metadata": {},
   "outputs": [
    {
     "data": {
      "text/plain": [
       "[Document(id='65163488-03ba-4f0f-8536-729598217594', metadata={'source': './tax.docx'}, page_content='제55조(세율) ①거주자의 종합소득에 대한 소득세는 해당 연도의 종합소득과세표준에 다음의 세율을 적용하여 계산한 금액(이하 “종합소득산출세액”이라 한다)을 그 세액으로 한다. <개정 2014. 1. 1., 2016. 12. 20., 2017. 12. 19., 2020. 12. 29., 2022. 12. 31.>\\n\\n| 종합소득 과세표준          | 세율                                         |\\n\\n|-------------------|--------------------------------------------|\\n\\n| 1,400만원 이하     | 과세표준의 6퍼센트                             |\\n\\n| 1,400만원 초과     5,000만원 이하     | 84만원 + (1,400만원을 초과하는 금액의 15퍼센트)  |\\n\\n| 5,000만원 초과   8,800만원 이하     | 624만원 + (5,000만원을 초과하는 금액의 24퍼센트) |\\n\\n| 8,800만원 초과 1억5천만원 이하    | 3,706만원 + (8,800만원을 초과하는 금액의 35퍼센트)|\\n\\n| 1억5천만원 초과 3억원 이하         | 3,706만원 + (1억5천만원을 초과하는 금액의 38퍼센트)|\\n\\n| 3억원 초과    5억원 이하         | 9,406만원 + (3억원을 초과하는 금액의 38퍼센트)   |\\n\\n| 5억원 초과      10억원 이하        | 1억 7,406만원 + (5억원을 초과하는 금액의 42퍼센트)|\\n\\n| 10억원 초과        | 3억 8,406만원 + (10억원을 초과하는 금액의 45퍼센트)|\\n\\n\\n\\n\\n\\n② 거주자의 퇴직소득에 대한 소득세는 다음 각 호의 순서에 따라 계산한 금액(이하 “퇴직소득 산출세액”이라 한다)으로 한다.<개정 2013. 1. 1., 2014. 12. 23.>\\n\\n1. 해당 과세기간의 퇴직소득과세표준에 제1항의 세율을 적용하여 계산한 금액\\n\\n2. 제1호의 금액을 12로 나눈 금액에 근속연수를 곱한 금액\\n\\n3. 삭제<2014. 12. 23.>\\n\\n[전문개정 2009. 12. 31.]\\n\\n\\n\\n제2관 세액공제 <개정 2009. 12. 31.>\\n\\n\\n\\n제56조(배당세액공제) ① 거주자의 종합소득금액에 제17조제3항 각 호 외의 부분 단서가 적용되는 배당소득금액이 합산되어 있는 경우에는 같은 항 각 호 외의 부분 단서에 따라 해당 과세기간의 총수입금액에 더한 금액에 해당하는 금액을 종합소득 산출세액에서 공제한다. <개정 2009. 12. 31.>\\n\\n② 제1항에 따른 공제를 “배당세액공제”라 한다.<개정 2009. 12. 31.>\\n\\n③ 삭제<2003. 12. 30.>\\n\\n④ 제1항을 적용할 때 배당세액공제의 대상이 되는 배당소득금액은 제14조제2항의 종합소득과세표준에 포함된 배당소득금액으로서 이자소득등의 종합과세기준금액을 초과하는 것으로 한다.<개정 2009. 12. 31.>\\n\\n⑤ 삭제<2006. 12. 30.>'),\n",
       " Document(id='71d19bd3-1929-446e-88a6-69fbd4855054', metadata={'source': './tax.docx'}, page_content='제55조(세율) ①거주자의 종합소득에 대한 소득세는 해당 연도의 종합소득과세표준에 다음의 세율을 적용하여 계산한 금액(이하 “종합소득산출세액”이라 한다)을 그 세액으로 한다. <개정 2014. 1. 1., 2016. 12. 20., 2017. 12. 19., 2020. 12. 29., 2022. 12. 31.>\\n\\n| 종합소득 과세표준          | 세율                                         |\\n\\n|-------------------|--------------------------------------------|\\n\\n| 1,400만원 이하     | 과세표준의 6퍼센트                             |\\n\\n| 1,400만원 초과     5,000만원 이하     | 84만원 + (1,400만원을 초과하는 금액의 15퍼센트)  |\\n\\n| 5,000만원 초과   8,800만원 이하     | 624만원 + (5,000만원을 초과하는 금액의 24퍼센트) |\\n\\n| 8,800만원 초과 1억5천만원 이하    | 3,706만원 + (8,800만원을 초과하는 금액의 35퍼센트)|\\n\\n| 1억5천만원 초과 3억원 이하         | 3,706만원 + (1억5천만원을 초과하는 금액의 38퍼센트)|\\n\\n| 3억원 초과    5억원 이하         | 9,406만원 + (3억원을 초과하는 금액의 38퍼센트)   |\\n\\n| 5억원 초과      10억원 이하        | 1억 7,406만원 + (5억원을 초과하는 금액의 42퍼센트)|\\n\\n| 10억원 초과        | 3억 8,406만원 + (10억원을 초과하는 금액의 45퍼센트)|\\n\\n\\n\\n\\n\\n② 거주자의 퇴직소득에 대한 소득세는 다음 각 호의 순서에 따라 계산한 금액(이하 “퇴직소득 산출세액”이라 한다)으로 한다.<개정 2013. 1. 1., 2014. 12. 23.>\\n\\n1. 해당 과세기간의 퇴직소득과세표준에 제1항의 세율을 적용하여 계산한 금액\\n\\n2. 제1호의 금액을 12로 나눈 금액에 근속연수를 곱한 금액\\n\\n3. 삭제<2014. 12. 23.>\\n\\n[전문개정 2009. 12. 31.]\\n\\n\\n\\n제2관 세액공제 <개정 2009. 12. 31.>\\n\\n\\n\\n제56조(배당세액공제) ① 거주자의 종합소득금액에 제17조제3항 각 호 외의 부분 단서가 적용되는 배당소득금액이 합산되어 있는 경우에는 같은 항 각 호 외의 부분 단서에 따라 해당 과세기간의 총수입금액에 더한 금액에 해당하는 금액을 종합소득 산출세액에서 공제한다. <개정 2009. 12. 31.>\\n\\n② 제1항에 따른 공제를 “배당세액공제”라 한다.<개정 2009. 12. 31.>\\n\\n③ 삭제<2003. 12. 30.>\\n\\n④ 제1항을 적용할 때 배당세액공제의 대상이 되는 배당소득금액은 제14조제2항의 종합소득과세표준에 포함된 배당소득금액으로서 이자소득등의 종합과세기준금액을 초과하는 것으로 한다.<개정 2009. 12. 31.>\\n\\n⑤ 삭제<2006. 12. 30.>'),\n",
       " Document(id='1b8a360c-c746-4b11-b962-690cf5b30534', metadata={'source': './tax.docx'}, page_content='제55조(세율) ①거주자의 종합소득에 대한 소득세는 해당 연도의 종합소득과세표준에 다음의 세율을 적용하여 계산한 금액(이하 “종합소득산출세액”이라 한다)을 그 세액으로 한다. <개정 2014. 1. 1., 2016. 12. 20., 2017. 12. 19., 2020. 12. 29., 2022. 12. 31.>\\n\\n| 종합소득 과세표준          | 세율                                         |\\n\\n|-------------------|--------------------------------------------|\\n\\n| 1,400만원 이하     | 과세표준의 6퍼센트                             |\\n\\n| 1,400만원 초과     5,000만원 이하     | 84만원 + (1,400만원을 초과하는 금액의 15퍼센트)  |\\n\\n| 5,000만원 초과   8,800만원 이하     | 624만원 + (5,000만원을 초과하는 금액의 24퍼센트) |\\n\\n| 8,800만원 초과 1억5천만원 이하    | 3,706만원 + (8,800만원을 초과하는 금액의 35퍼센트)|\\n\\n| 1억5천만원 초과 3억원 이하         | 3,706만원 + (1억5천만원을 초과하는 금액의 38퍼센트)|\\n\\n| 3억원 초과    5억원 이하         | 9,406만원 + (3억원을 초과하는 금액의 38퍼센트)   |\\n\\n| 5억원 초과      10억원 이하        | 1억 7,406만원 + (5억원을 초과하는 금액의 42퍼센트)|\\n\\n| 10억원 초과        | 3억 8,406만원 + (10억원을 초과하는 금액의 45퍼센트)|\\n\\n\\n\\n\\n\\n② 거주자의 퇴직소득에 대한 소득세는 다음 각 호의 순서에 따라 계산한 금액(이하 “퇴직소득 산출세액”이라 한다)으로 한다.<개정 2013. 1. 1., 2014. 12. 23.>\\n\\n1. 해당 과세기간의 퇴직소득과세표준에 제1항의 세율을 적용하여 계산한 금액\\n\\n2. 제1호의 금액을 12로 나눈 금액에 근속연수를 곱한 금액\\n\\n3. 삭제<2014. 12. 23.>\\n\\n[전문개정 2009. 12. 31.]\\n\\n\\n\\n제2관 세액공제 <개정 2009. 12. 31.>\\n\\n\\n\\n제56조(배당세액공제) ① 거주자의 종합소득금액에 제17조제3항 각 호 외의 부분 단서가 적용되는 배당소득금액이 합산되어 있는 경우에는 같은 항 각 호 외의 부분 단서에 따라 해당 과세기간의 총수입금액에 더한 금액에 해당하는 금액을 종합소득 산출세액에서 공제한다. <개정 2009. 12. 31.>\\n\\n② 제1항에 따른 공제를 “배당세액공제”라 한다.<개정 2009. 12. 31.>\\n\\n③ 삭제<2003. 12. 30.>\\n\\n④ 제1항을 적용할 때 배당세액공제의 대상이 되는 배당소득금액은 제14조제2항의 종합소득과세표준에 포함된 배당소득금액으로서 이자소득등의 종합과세기준금액을 초과하는 것으로 한다.<개정 2009. 12. 31.>\\n\\n⑤ 삭제<2006. 12. 30.>'),\n",
       " Document(id='e4931ee6-01ce-4750-b2fb-fd5cdce5329c', metadata={'source': './tax.docx'}, page_content='3. 「자본시장과 금융투자업에 관한 법률」 제251조제1항에 따른 집합투자업겸영보험회사의 특별계정\\n\\n③ 비거주자의 소득은 제119조에 따라 구분한다.\\n\\n[전문개정 2009. 12. 31.]\\n\\n\\n\\n제4조(소득의 구분) ① 거주자의 소득은 다음 각 호와 같이 구분한다. <개정 2013. 1. 1., 2020. 12. 29.>\\n\\n1. 종합소득\\n\\n\\u3000이 법에 따라 과세되는 모든 소득에서 제2호, 제2호의2 및 제3호에 따른 소득을 제외한 소득으로서 다음 각 목의 소득을 합산한 것\\n\\n가. 이자소득\\n\\n나. 배당소득\\n\\n다. 사업소득\\n\\n라. 근로소득\\n\\n마. 연금소득\\n\\n바. 기타소득\\n\\n2. 퇴직소득\\n\\n2의2. 금융투자소득\\n\\n3. 양도소득\\n\\n② 제1항에 따른 소득을 구분할 때 다음 각 호의 신탁을 제외한 신탁의 이익은 「신탁법」 제2조에 따라 수탁자에게 이전되거나 그 밖에 처분된 재산권에서 발생하는 소득의 내용별로 구분한다.<개정 2011. 7. 25., 2020. 12. 29., 2022. 12. 31.>\\n\\n1. 「법인세법」 제5조제2항에 따라 신탁재산에 귀속되는 소득에 대하여 그 신탁의 수탁자가 법인세를 납부하는 신탁\\n\\n2. 「자본시장과 금융투자업에 관한 법률」 제9조제18항제1호에 따른 투자신탁. 다만, 2024년 12월 31일까지는 이 법 제17조제1항제5호에 따른 집합투자기구로 한정한다.\\n\\n3. 「자본시장과 금융투자업에 관한 법률」 제251조제1항에 따른 집합투자업겸영보험회사의 특별계정\\n\\n③ 비거주자의 소득은 제119조에 따라 구분한다.\\n\\n[전문개정 2009. 12. 31.]\\n\\n[시행일: 2025. 1. 1.] 제4조제1항제1호, 제4조제1항제2호의2\\n\\n\\n\\n제5조(과세기간) ① 소득세의 과세기간은 1월 1일부터 12월 31일까지 1년으로 한다.\\n\\n② 거주자가 사망한 경우의 과세기간은 1월 1일부터 사망한 날까지로 한다.\\n\\n③ 거주자가 주소 또는 거소를 국외로 이전(이하 “출국”이라 한다)하여 비거주자가 되는 경우의 과세기간은 1월 1일부터 출국한 날까지로 한다.\\n\\n[전문개정 2009. 12. 31.]\\n\\n\\n\\n제6조(납세지) ① 거주자의 소득세 납세지는 그 주소지로 한다. 다만, 주소지가 없는 경우에는 그 거소지로 한다.\\n\\n② 비거주자의 소득세 납세지는 제120조에 따른 국내사업장(이하 “국내사업장”이라 한다)의 소재지로 한다. 다만, 국내사업장이 둘 이상 있는 경우에는 주된 국내사업장의 소재지로 하고, 국내사업장이 없는 경우에는 국내원천소득이 발생하는 장소로 한다.<개정 2013. 1. 1.>\\n\\n③ 납세지가 불분명한 경우에는 대통령령으로 정하는 바에 따라 납세지를 결정한다.\\n\\n[전문개정 2009. 12. 31.]\\n\\n\\n\\n제7조(원천징수 등의 경우의 납세지) ① 원천징수하는 소득세의 납세지는 다음 각 호에 따른다. <개정 2012. 1. 1., 2023. 12. 31.>')]"
      ]
     },
     "execution_count": 9,
     "metadata": {},
     "output_type": "execute_result"
    }
   ],
   "source": [
    "retriever = vectorstore.as_retriever(search_kwargs={'k':4})\n",
    "retriever.invoke(query)"
   ]
  },
  {
   "cell_type": "code",
   "execution_count": 10,
   "id": "7d271871",
   "metadata": {},
   "outputs": [
    {
     "name": "stderr",
     "output_type": "stream",
     "text": [
      "c:\\AI_prompt\\second\\AI_Agent\\ai_agent_work2\\tax_env\\myenv\\Lib\\site-packages\\langsmith\\client.py:272: LangSmithMissingAPIKeyWarning: API key must be provided when using hosted LangSmith API\n",
      "  warnings.warn(\n"
     ]
    }
   ],
   "source": [
    "from langchain import hub\n",
    "\n",
    "prompt = hub.pull(\"rlm/rag-prompt\")"
   ]
  },
  {
   "cell_type": "code",
   "execution_count": 11,
   "id": "fa3d5f3e",
   "metadata": {},
   "outputs": [
    {
     "data": {
      "text/plain": [
       "ChatPromptTemplate(input_variables=['context', 'question'], input_types={}, partial_variables={}, metadata={'lc_hub_owner': 'rlm', 'lc_hub_repo': 'rag-prompt', 'lc_hub_commit_hash': '50442af133e61576e74536c6556cefe1fac147cad032f4377b60c436e6cdcb6e'}, messages=[HumanMessagePromptTemplate(prompt=PromptTemplate(input_variables=['context', 'question'], input_types={}, partial_variables={}, template=\"You are an assistant for question-answering tasks. Use the following pieces of retrieved context to answer the question. If you don't know the answer, just say that you don't know. Use three sentences maximum and keep the answer concise.\\nQuestion: {question} \\nContext: {context} \\nAnswer:\"), additional_kwargs={})])"
      ]
     },
     "execution_count": 11,
     "metadata": {},
     "output_type": "execute_result"
    }
   ],
   "source": [
    "prompt"
   ]
  },
  {
   "cell_type": "code",
   "execution_count": 12,
   "id": "e4acf58e",
   "metadata": {},
   "outputs": [],
   "source": [
    "from langchain_openai import ChatOpenAI\n",
    "\n",
    "llm = ChatOpenAI(\n",
    "    model='gpt-4o-mini'\n",
    ")"
   ]
  },
  {
   "cell_type": "markdown",
   "id": "2ea7eaab",
   "metadata": {},
   "source": [
    "### Retriever"
   ]
  },
  {
   "cell_type": "code",
   "execution_count": 13,
   "id": "e0dffdf1",
   "metadata": {},
   "outputs": [],
   "source": [
    "from langchain.chains import RetrievalQA\n",
    "\n",
    "qa_chain = RetrievalQA.from_chain_type(\n",
    "    llm=llm,\n",
    "    retriever=retriever,\n",
    "    chain_type_kwargs={\"prompt\":prompt},\n",
    ")"
   ]
  },
  {
   "cell_type": "code",
   "execution_count": 14,
   "id": "23bb5e3f",
   "metadata": {},
   "outputs": [],
   "source": [
    "query = '연봉 5천만원인 직장인의 종합소득세는?'"
   ]
  },
  {
   "cell_type": "code",
   "execution_count": 15,
   "id": "eb3738fa",
   "metadata": {},
   "outputs": [],
   "source": [
    "ai_message = qa_chain.invoke({\"query\":query})"
   ]
  },
  {
   "cell_type": "code",
   "execution_count": 16,
   "id": "a74c2f26",
   "metadata": {},
   "outputs": [
    {
     "data": {
      "text/plain": [
       "{'query': '연봉 5천만원인 직장인의 종합소득세는?',\n",
       " 'result': '연봉 5천만원인 직장인의 종합소득세는 근로소득에 대한 기본세율이 적용됩니다. 기본세율은 구체적 소득 상황에 따라 달라지지만, 일반적으로 국민세와 지방세를 포함하여 일정 비율로 계산됩니다. 따라서 정확한 세액은 추가적인 세액 공제 및 개인 사정에 따라 달라질 수 있습니다.'}"
      ]
     },
     "execution_count": 16,
     "metadata": {},
     "output_type": "execute_result"
    }
   ],
   "source": [
    "ai_message"
   ]
  },
  {
   "cell_type": "markdown",
   "id": "071fe3bb",
   "metadata": {},
   "source": [
    "### prompt"
   ]
  },
  {
   "cell_type": "code",
   "execution_count": 17,
   "id": "a3cc3b2d",
   "metadata": {},
   "outputs": [],
   "source": [
    "from langchain_core.output_parsers import StrOutputParser\n",
    "from langchain.prompts import ChatPromptTemplate\n",
    "\n",
    "dictionary = [\"사람을 나타내는 표현 -> 거주자\"]\n",
    "\n",
    "prompt = ChatPromptTemplate.from_template(f\"\"\"\n",
    "사용자의 질문을 보고, 우리의 사전을 참고해서 사용자의 질문을 변경해 주세요.\n",
    "만약 변경할 필요가 없다고 판단된다면, 사용자의 질문을 변경하지 않아도 됩니다.\n",
    "그런 경우에는 질문만 리턴해 주세요.\n",
    "사전: {dictionary}\n",
    "질문: {{question}}\n",
    "\"\"\")\n",
    "\n",
    "dictionary_chain = prompt | llm | StrOutputParser()\n",
    "\n",
    "tax_chain = {\"query\": dictionary_chain} | qa_chain"
   ]
  },
  {
   "cell_type": "code",
   "execution_count": 18,
   "id": "6fdf3d6e",
   "metadata": {},
   "outputs": [
    {
     "data": {
      "text/plain": [
       "'연봉 5천만원인 거주자의 종합소득세는?'"
      ]
     },
     "execution_count": 18,
     "metadata": {},
     "output_type": "execute_result"
    }
   ],
   "source": [
    "new_question = dictionary_chain.invoke({\"question\": query})\n",
    "new_question"
   ]
  },
  {
   "cell_type": "code",
   "execution_count": 19,
   "id": "9b8f88ac",
   "metadata": {},
   "outputs": [
    {
     "data": {
      "text/plain": [
       "{'query': '연봉 5천만원인 거주자의 종합소득세는?',\n",
       " 'result': '연봉 5천만원인 거주자의 종합소득세는 84만원에 1,400만원을 초과하는 금액의 15%를 추가한 금액으로 계산됩니다. 이를 통해 총 세액은 84만원 + (5천만원 - 1,400만원) × 0.15가 됩니다. 정확한 금액은 계산을 통해 확인할 수 있습니다.'}"
      ]
     },
     "execution_count": 19,
     "metadata": {},
     "output_type": "execute_result"
    }
   ],
   "source": [
    "ai_message = tax_chain.invoke({\"question\":query})\n",
    "ai_message"
   ]
  },
  {
   "cell_type": "markdown",
   "id": "06e7401c",
   "metadata": {},
   "source": [
    "### Streamlit"
   ]
  },
  {
   "cell_type": "code",
   "execution_count": null,
   "id": "e5e4e715",
   "metadata": {},
   "outputs": [],
   "source": []
  }
 ],
 "metadata": {
  "kernelspec": {
   "display_name": "myenv",
   "language": "python",
   "name": "python3"
  },
  "language_info": {
   "codemirror_mode": {
    "name": "ipython",
    "version": 3
   },
   "file_extension": ".py",
   "mimetype": "text/x-python",
   "name": "python",
   "nbconvert_exporter": "python",
   "pygments_lexer": "ipython3",
   "version": "3.11.9"
  }
 },
 "nbformat": 4,
 "nbformat_minor": 5
}
